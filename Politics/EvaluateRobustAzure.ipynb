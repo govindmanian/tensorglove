{
 "cells": [
  {
   "cell_type": "markdown",
   "metadata": {},
   "source": [
    "# Generate view embeddings"
   ]
  },
  {
   "cell_type": "code",
   "execution_count": 60,
   "metadata": {
    "collapsed": false
   },
   "outputs": [],
   "source": [
    "import numpy as np\n",
    "import pickle\n",
    "import matplotlib.pyplot as plt\n",
    "%matplotlib inline\n",
    "\n",
    "settings = \"200dim_100epoch_0.08learn_1000cc_\"\n",
    "dim = 200\n",
    "\n",
    "def normalize(embed):\n",
    "    m, n = embed.shape\n",
    "    for i in xrange(m):\n",
    "        embed[i] = embed[i] / np.linalg.norm(embed[i])\n",
    "    return embed\n",
    "\n",
    "with open(settings + \"vectors.txt\", 'r') as glove:\n",
    "    words = []\n",
    "    lines = glove.readlines()\n",
    "    embed = np.zeros((len(lines) - 1, dim))\n",
    "    body = lines[:-1]\n",
    "    i = 0\n",
    "    for vec in body:\n",
    "        tokens = vec.split()\n",
    "        words.append(tokens[0])\n",
    "        embed[i] = np.asarray([float(x) for x in tokens[1:]])\n",
    "        i = i + 1\n",
    "        \n",
    "word_dict = {words[i] : i for i in xrange(len(words))}\n",
    "        \n",
    "eembed = np.copy(embed)\n",
    "embed = normalize(embed)\n",
    "with open(settings + \"cellvectors.txt\", 'r') as cov:\n",
    "    lines = cov.readlines()\n",
    "    cembed = np.zeros((len(lines) - 1, dim))\n",
    "    body = lines[:-1]\n",
    "    i = 0\n",
    "    for vec in body:\n",
    "        tokens = vec.split()\n",
    "        cembed[i] = np.asarray([abs(float(x)) for x in tokens[1:]])\n",
    "        i = i + 1\n",
    "ccembed = np.copy(cembed)\n",
    "ncembed = normalize(cembed)\n",
    "with open(settings + \"timevectors.txt\", 'r') as cov2:\n",
    "    lines = cov2.readlines()\n",
    "    tembed = np.zeros((len(lines) - 1, dim))\n",
    "    body = lines[:-1]\n",
    "    i = 0\n",
    "    for vec in body:\n",
    "        tokens = vec.split()\n",
    "        tembed[i] = np.asarray([abs(float(x)) for x in tokens[1:]])\n",
    "        i = i + 1\n",
    "ttembed = np.copy(tembed)\n",
    "ntembed = normalize(tembed)"
   ]
  },
  {
   "cell_type": "code",
   "execution_count": 58,
   "metadata": {
    "collapsed": false
   },
   "outputs": [
    {
     "name": "stdout",
     "output_type": "stream",
     "text": [
      "Conservative ('Conservative', 'PoliticalDiscussion', 'politics', 'The_Donald', 'NeutralPolitics', 'SandersForPresident') (0.0, 0.53197210816980334, 0.54335642518291472, 0.5630954301295793, 0.6335192837254725, 0.65813507189810072)\n",
      "NeutralPolitics ('NeutralPolitics', 'Conservative', 'PoliticalDiscussion', 'politics', 'SandersForPresident', 'The_Donald') (0.0, 0.6335192837254725, 0.71893930328275357, 0.73886292456428682, 0.75050259457588953, 0.84341884841404802)\n",
      "PoliticalDiscussion ('PoliticalDiscussion', 'politics', 'SandersForPresident', 'Conservative', 'The_Donald', 'NeutralPolitics') (0.0, 0.36093406640060904, 0.51953944936516983, 0.53197210816980334, 0.68532142843168464, 0.71893930328275357)\n",
      "SandersForPresident ('SandersForPresident', 'politics', 'PoliticalDiscussion', 'Conservative', 'The_Donald', 'NeutralPolitics') (0.0, 0.47604472656017133, 0.51953944936516983, 0.65813507189810072, 0.74040017327329055, 0.75050259457588953)\n",
      "The_Donald ('The_Donald', 'Conservative', 'politics', 'PoliticalDiscussion', 'SandersForPresident', 'NeutralPolitics') (0.0, 0.5630954301295793, 0.6264884570057675, 0.68532142843168464, 0.74040017327329055, 0.84341884841404802)\n",
      "politics ('politics', 'PoliticalDiscussion', 'SandersForPresident', 'Conservative', 'The_Donald', 'NeutralPolitics') (0.0, 0.36093406640060904, 0.47604472656017133, 0.54335642518291472, 0.6264884570057675, 0.73886292456428682)\n"
     ]
    }
   ],
   "source": [
    "subs = [\"Conservative\", \"NeutralPolitics\", \"PoliticalDiscussion\", \"SandersForPresident\", \"The_Donald\", \"politics\"]\n",
    "\n",
    "for i in xrange(len(ncembed)):\n",
    "    comp = subs\n",
    "    dists = []\n",
    "    for j in xrange(len(ncembed)):\n",
    "        dists.append(np.linalg.norm(ncembed[i] - ncembed[j]))\n",
    "    dists, comp = zip(*sorted(zip(dists, comp)))\n",
    "    print subs[i], comp, dists"
   ]
  },
  {
   "cell_type": "code",
   "execution_count": 4,
   "metadata": {
    "collapsed": false
   },
   "outputs": [
    {
     "name": "stdout",
     "output_type": "stream",
     "text": [
      "1 (1, 2, 4, 3, 6, 7, 12, 8, 9, 10, 5, 11) (0.0, 0.33015109414303201, 0.49975910115341005, 0.50364044860621571, 0.52401900208161245, 0.5660987128647248, 0.59452912057081264, 0.59626781432167431, 0.61481317850425743, 0.61610240309770603, 0.62658420760845057, 0.65454668357957591)\n",
      "2 (2, 1, 4, 3, 6, 7, 12, 8, 9, 10, 5, 11) (0.0, 0.33015109414303201, 0.42995249443811639, 0.44250902174071671, 0.47769669797401509, 0.48513065350001805, 0.50747874162186046, 0.52151107021487042, 0.53249829894229606, 0.54198085406369223, 0.56347690782901816, 0.58013627217611552)\n",
      "3 (3, 4, 2, 6, 7, 5, 1, 9, 8, 12, 10, 11) (0.0, 0.41496371423924805, 0.44250902174071671, 0.48925072339617209, 0.50121219842242004, 0.50271275209721455, 0.50364044860621571, 0.55466793408409232, 0.56866431349504387, 0.57213656898628074, 0.58027175436794531, 0.61562254392372895)\n",
      "4 (4, 6, 3, 5, 2, 8, 7, 12, 1, 9, 10, 11) (0.0, 0.40448610690556286, 0.41496371423924805, 0.42949411157730089, 0.42995249443811639, 0.47292005838575946, 0.48674227293418365, 0.48914213366749643, 0.49975910115341005, 0.50360333378792543, 0.55507542158050971, 0.57717851835300404)\n",
      "5 (5, 6, 4, 7, 3, 8, 12, 9, 2, 11, 1, 10) (0.0, 0.36811024112230845, 0.42949411157730089, 0.42971259540671902, 0.50271275209721455, 0.52452163968609522, 0.53882327282368114, 0.54806245125588315, 0.56347690782901816, 0.57386486665778169, 0.62658420760845057, 0.62952411214501547)\n",
      "6 (6, 5, 7, 4, 8, 9, 12, 2, 3, 10, 11, 1) (0.0, 0.36811024112230845, 0.3717098313145249, 0.40448610690556286, 0.44552218343951094, 0.46225523937135615, 0.46963957425110392, 0.47769669797401509, 0.48925072339617209, 0.51008091786409471, 0.52250939564933785, 0.52401900208161245)\n",
      "7 (7, 6, 8, 9, 5, 12, 11, 10, 2, 4, 3, 1) (0.0, 0.3717098313145249, 0.39209740919705593, 0.40828904493369556, 0.42971259540671902, 0.46236487099232521, 0.47766214111805799, 0.48022516254584879, 0.48513065350001805, 0.48674227293418365, 0.50121219842242004, 0.5660987128647248)\n",
      "8 (8, 7, 9, 6, 4, 12, 11, 10, 2, 5, 3, 1) (0.0, 0.39209740919705593, 0.39727206650100139, 0.44552218343951094, 0.47292005838575946, 0.47965446800318445, 0.50521732080237691, 0.5073068289395285, 0.52151107021487042, 0.52452163968609522, 0.56866431349504387, 0.59626781432167431)\n",
      "9 (9, 8, 7, 10, 6, 11, 12, 4, 2, 5, 3, 1) (0.0, 0.39727206650100139, 0.40828904493369556, 0.45765360291650825, 0.46225523937135615, 0.47826216273199385, 0.49515732017713143, 0.50360333378792543, 0.53249829894229606, 0.54806245125588315, 0.55466793408409232, 0.61481317850425743)\n",
      "10 (10, 9, 12, 7, 8, 6, 11, 2, 4, 3, 1, 5) (0.0, 0.45765360291650825, 0.47117024229069326, 0.48022516254584879, 0.5073068289395285, 0.51008091786409471, 0.51636595831761201, 0.54198085406369223, 0.55507542158050971, 0.58027175436794531, 0.61610240309770603, 0.62952411214501547)\n",
      "11 (11, 7, 9, 12, 8, 10, 6, 5, 4, 2, 3, 1) (0.0, 0.47766214111805799, 0.47826216273199385, 0.48515034333390039, 0.50521732080237691, 0.51636595831761201, 0.52250939564933785, 0.57386486665778169, 0.57717851835300404, 0.58013627217611552, 0.61562254392372895, 0.65454668357957591)\n",
      "12 (12, 7, 6, 10, 8, 11, 4, 9, 2, 5, 3, 1) (0.0, 0.46236487099232521, 0.46963957425110392, 0.47117024229069326, 0.47965446800318445, 0.48515034333390039, 0.48914213366749643, 0.49515732017713143, 0.50747874162186046, 0.53882327282368114, 0.57213656898628074, 0.59452912057081264)\n"
     ]
    }
   ],
   "source": [
    "times = range(1, 13)\n",
    "\n",
    "for i in xrange(len(ntembed)):\n",
    "    comp = times\n",
    "    dists = []\n",
    "    for j in xrange(len(ntembed)):\n",
    "        dists.append(np.linalg.norm(ntembed[i] - ntembed[j]))\n",
    "    dists, comp = zip(*sorted(zip(dists, comp)))\n",
    "    print times[i], comp, dists"
   ]
  },
  {
   "cell_type": "code",
   "execution_count": 23,
   "metadata": {
    "collapsed": true
   },
   "outputs": [],
   "source": [
    "sub_embed = {}\n",
    "for k in xrange(len(subs)):\n",
    "    m, n = embed.shape\n",
    "    sub_specific_embed = np.zeros((m, n))\n",
    "    for i in xrange(m):\n",
    "        sub_specific_embed[i] = np.multiply(embed[i], ccembed[k])\n",
    "    sub_embed[subs[k]] = normalize(sub_specific_embed)\n",
    "    \n",
    "time_embed = {}\n",
    "for k in xrange(len(times)):\n",
    "    m, n = embed.shape\n",
    "    time_specific_embed = np.zeros((m, n))\n",
    "    for i in xrange(m):\n",
    "        time_specific_embed[i] = np.multiply(embed[i], ttembed[k])\n",
    "    time_embed[times[k]] = normalize(time_specific_embed)\n",
    "    \n",
    "sub_time_embed = {}\n",
    "for sub in xrange(len(subs)):\n",
    "    for time in xrange(len(times)):\n",
    "        m, n = embed.shape\n",
    "        sub_time_specific_embed = np.zeros((m, n))\n",
    "        for i in xrange(m):\n",
    "            sub_time_specific_embed[i] = np.multiply(np.multiply(embed[i], ttembed[time]), ccembed[sub])\n",
    "        sub_time_embed[(subs[sub], times[time])] = normalize(sub_time_specific_embed)"
   ]
  },
  {
   "cell_type": "code",
   "execution_count": 66,
   "metadata": {
    "collapsed": false
   },
   "outputs": [
    {
     "data": {
      "text/plain": [
       "[4.6701483891081201,\n",
       " 4.0367553961274663,\n",
       " 5.105795030837835,\n",
       " 5.2251820854723299,\n",
       " 5.6669383457753826,\n",
       " 5.2152796262855281]"
      ]
     },
     "execution_count": 66,
     "metadata": {},
     "output_type": "execute_result"
    }
   ],
   "source": [
    "[np.linalg.norm(ccembed[i]) for i in xrange(len(ccembed))]"
   ]
  },
  {
   "cell_type": "code",
   "execution_count": 67,
   "metadata": {
    "collapsed": false
   },
   "outputs": [
    {
     "data": {
      "text/plain": [
       "['Conservative',\n",
       " 'NeutralPolitics',\n",
       " 'PoliticalDiscussion',\n",
       " 'SandersForPresident',\n",
       " 'The_Donald',\n",
       " 'politics']"
      ]
     },
     "execution_count": 67,
     "metadata": {},
     "output_type": "execute_result"
    }
   ],
   "source": [
    "subs"
   ]
  },
  {
   "cell_type": "code",
   "execution_count": 11,
   "metadata": {
    "collapsed": false
   },
   "outputs": [],
   "source": [
    "ste_12_dict = {words[i] : sub_time_embed[(\"Conservative\", 2)][i] for i in xrange(len(words))}\n",
    "pickle.dump(ste_11_dict, open(\"../embeddings/word-embeddings-benchmarks/test_view_2.p\", 'wb'))"
   ]
  },
  {
   "cell_type": "markdown",
   "metadata": {},
   "source": [
    "# Save view vectors"
   ]
  },
  {
   "cell_type": "code",
   "execution_count": 6,
   "metadata": {
    "collapsed": true
   },
   "outputs": [],
   "source": [
    "sub_time_vectors = {}\n",
    "for sub in xrange(len(subs)):\n",
    "    for time in xrange(len(times)):\n",
    "        sub_time_vectors[(subs[sub], times[time])] = np.multiply(ttembed[time], ccembed[sub])"
   ]
  },
  {
   "cell_type": "code",
   "execution_count": 57,
   "metadata": {
    "collapsed": false
   },
   "outputs": [
    {
     "data": {
      "text/plain": [
       "(array([ 46.,  19.,  50.,  73.,   8.,   2.,   0.,   1.,   0.,   1.]),\n",
       " array([ 0.        ,  0.02495448,  0.04990896,  0.07486344,  0.09981792,\n",
       "         0.12477241,  0.14972689,  0.17468137,  0.19963585,  0.22459033,\n",
       "         0.24954481]),\n",
       " <a list of 10 Patch objects>)"
      ]
     },
     "execution_count": 57,
     "metadata": {},
     "output_type": "execute_result"
    },
    {
     "data": {
      "image/png": "[encoded data removed]",
      "text/plain": [
       "<matplotlib.figure.Figure at 0x192127e50>"
      ]
     },
     "metadata": {},
     "output_type": "display_data"
    }
   ],
   "source": [
    "plt.hist(np.abs(ttembed[0]))"
   ]
  },
  {
   "cell_type": "code",
   "execution_count": 8,
   "metadata": {
    "collapsed": true
   },
   "outputs": [],
   "source": [
    "a, b = zip(*sorted(zip(np.abs(sub_time_vectors[(\"politics\", 9)]), range(200))))"
   ]
  },
  {
   "cell_type": "code",
   "execution_count": 12,
   "metadata": {
    "collapsed": false
   },
   "outputs": [
    {
     "data": {
      "text/plain": [
       "[(16, 0.023479137967198183),\n",
       " (71, 0.021985447602095958),\n",
       " (87, 0.019792142064350697),\n",
       " (95, 0.015820274755309376),\n",
       " (141, 0.014883866355797),\n",
       " (153, 0.013423166281702854),\n",
       " (189, 0.011284725480022965),\n",
       " (89, 0.010539451310750764),\n",
       " (138, 0.0091436138282805744),\n",
       " (56, 0.0091316467858019949),\n",
       " (193, 0.0088431596778621464),\n",
       " (70, 0.0083212231560627591),\n",
       " (129, 0.0082540064161588586),\n",
       " (53, 0.007506161559036488),\n",
       " (113, 0.0073009615294025382),\n",
       " (125, 0.0072922041543670964),\n",
       " (69, 0.0072077195072100253),\n",
       " (19, 0.0071363701506776218),\n",
       " (157, 0.0071067015233141941),\n",
       " (127, 0.0070633829593038568),\n",
       " (46, 0.0069780321991639383),\n",
       " (118, 0.0069765758129499839),\n",
       " (140, 0.0068630153341605622),\n",
       " (142, 0.0068123273158138134),\n",
       " (136, 0.0067780018071926075),\n",
       " (29, 0.0066738016903498641),\n",
       " (174, 0.0066217608531829349),\n",
       " (9, 0.0065599297090257304),\n",
       " (135, 0.0065516535457466954),\n",
       " (79, 0.0065264232623538166),\n",
       " (0, 0.0065083171756179555),\n",
       " (168, 0.0064988527651800325),\n",
       " (34, 0.0064760638879956898),\n",
       " (130, 0.0064733862087180969),\n",
       " (112, 0.0064561629945081118),\n",
       " (52, 0.0064526915525755617),\n",
       " (111, 0.0063953696910303958),\n",
       " (170, 0.0063407222062276183),\n",
       " (114, 0.0063189958833969554),\n",
       " (22, 0.0062965052105611831),\n",
       " (103, 0.006290197156020751),\n",
       " (36, 0.0062802422906800661),\n",
       " (131, 0.0062687797139502847),\n",
       " (194, 0.0062602948537902074),\n",
       " (128, 0.0062357677183774423),\n",
       " (123, 0.0062292402873192383),\n",
       " (43, 0.0062160571840088686),\n",
       " (78, 0.0061940612903824601),\n",
       " (47, 0.0061856823021577733),\n",
       " (94, 0.0061837173659240689),\n",
       " (119, 0.0061652429406268911),\n",
       " (68, 0.0061281483044519774),\n",
       " (156, 0.006112441145120189),\n",
       " (72, 0.0060932825262447077),\n",
       " (4, 0.0060777186238071788),\n",
       " (179, 0.0060521143944243377),\n",
       " (196, 0.0060511277247307284),\n",
       " (159, 0.0060397444284603485),\n",
       " (134, 0.0060095279292384758),\n",
       " (160, 0.0059694871938537133),\n",
       " (1, 0.0059317988610004284),\n",
       " (26, 0.0059300309582372215),\n",
       " (88, 0.005841706407504612),\n",
       " (92, 0.0058362742714341397),\n",
       " (31, 0.0058242152061712491),\n",
       " (155, 0.0058195082479999445),\n",
       " (23, 0.0058136070928230784),\n",
       " (20, 0.005780713979252756),\n",
       " (3, 0.0057521061854157911),\n",
       " (186, 0.005752094413876324),\n",
       " (101, 0.0057265628298596933),\n",
       " (97, 0.0057255541687430368),\n",
       " (176, 0.0057106863183251548),\n",
       " (151, 0.0056756214112977082),\n",
       " (60, 0.0056603619731637744),\n",
       " (117, 0.0056397891707219931),\n",
       " (5, 0.0056328034884153616),\n",
       " (99, 0.0056283092044105741),\n",
       " (171, 0.0056212882837152608),\n",
       " (122, 0.0056202319678843298),\n",
       " (145, 0.0056100302678766404),\n",
       " (66, 0.0055943753855652832),\n",
       " (41, 0.0055450111915674996),\n",
       " (62, 0.0055278444492992606),\n",
       " (107, 0.0055275283326970664),\n",
       " (172, 0.005495501473046613),\n",
       " (27, 0.0054905398468132844),\n",
       " (187, 0.0054680423569591708),\n",
       " (149, 0.0054610835391775102),\n",
       " (45, 0.005422471805946895),\n",
       " (39, 0.0054163180640431473),\n",
       " (124, 0.0054054037798718924),\n",
       " (13, 0.005399455711197469),\n",
       " (148, 0.0053836891769204016),\n",
       " (77, 0.0052804204374257476),\n",
       " (167, 0.005266690572278885),\n",
       " (121, 0.0052561780098022339),\n",
       " (100, 0.0052405166910054184),\n",
       " (102, 0.0052336593946412536),\n",
       " (192, 0.0052129625295667557),\n",
       " (190, 0.0051546235164390778),\n",
       " (11, 0.005136934174721091),\n",
       " (198, 0.0051118955053349509),\n",
       " (81, 0.0050843277270699308),\n",
       " (162, 0.0050468054692159132),\n",
       " (25, 0.0050302415385891997),\n",
       " (7, 0.0049780343183083529),\n",
       " (48, 0.0049516131629035644),\n",
       " (67, 0.0046720642911006801),\n",
       " (61, 0.0045762127576443705),\n",
       " (182, 0.0045685984147856252),\n",
       " (178, 0.0045574435581306446),\n",
       " (181, 0.0045295981422066945),\n",
       " (85, 0.0043413941563627961),\n",
       " (80, 0.0038620157780346258),\n",
       " (49, 0.0035542736182526766),\n",
       " (163, 0.0029260679392672231),\n",
       " (144, 0.0026423938024883642),\n",
       " (164, 0.0024292526966169423),\n",
       " (2, 0.001726494564716176),\n",
       " (173, 0.0015948770471908857),\n",
       " (21, 0.001570807798226306),\n",
       " (24, 0.0014860051915256808),\n",
       " (44, 0.00094837482898675661),\n",
       " (133, 0.0006756875782123323),\n",
       " (197, 0.00044442070591559833),\n",
       " (110, 9.3613485327532963e-05),\n",
       " (50, 1.4854319612245067e-05),\n",
       " (18, 1.421735669209528e-06),\n",
       " (180, 1.3872636901423947e-06),\n",
       " (30, 2.1449132383334953e-08),\n",
       " (154, 1.3336860151908327e-10),\n",
       " (63, 9.8670656659738613e-11),\n",
       " (10, 1.6489114755648956e-12),\n",
       " (15, 1.0942243761469017e-12),\n",
       " (137, 8.1354453609172807e-14),\n",
       " (14, 3.0387906140932634e-14),\n",
       " (38, 8.2762392082311937e-16),\n",
       " (33, 1.905186443452213e-16),\n",
       " (59, 1.4641862792659014e-19),\n",
       " (65, 1.3455655161252344e-19),\n",
       " (150, 1.119270770500085e-19),\n",
       " (183, 7.126139776422164e-20),\n",
       " (184, 1.4244217964109333e-20),\n",
       " (152, 4.0981442065697974e-21),\n",
       " (104, 2.1751287229671565e-21),\n",
       " (147, 1.6628723066972501e-21),\n",
       " (32, 4.2164011264096856e-22),\n",
       " (58, 2.8477149821348248e-22),\n",
       " (115, 1.5552420907101291e-22),\n",
       " (120, 9.7033870627869845e-24),\n",
       " (93, 3.2759337828011335e-24),\n",
       " (166, 2.1103524238224258e-27),\n",
       " (169, 3.9978524677598482e-29),\n",
       " (84, 2.618743310402209e-35),\n",
       " (185, 4.519100860475204e-36),\n",
       " (96, 1.876237206950363e-36),\n",
       " (195, 3.7863553136661355e-37),\n",
       " (139, 2.6060731156629245e-38),\n",
       " (17, 1.0862986968609302e-38),\n",
       " (76, 1.1706401127193336e-39),\n",
       " (188, 7.0782843075807522e-41),\n",
       " (75, 4.1597178449258123e-42),\n",
       " (73, 1.2578927394809447e-43),\n",
       " (161, 3.729602088104023e-46),\n",
       " (109, 2.937772269103127e-46),\n",
       " (40, 2.3788473246906244e-46),\n",
       " (74, 2.3259188993102596e-46),\n",
       " (8, 2.2760829332578148e-46),\n",
       " (12, 2.1099336022484259e-46),\n",
       " (132, 1.2643832412756632e-46),\n",
       " (108, 9.6152970581098775e-47),\n",
       " (37, 9.0866290775879986e-47),\n",
       " (126, 7.913348492465594e-47),\n",
       " (98, 7.6140773934178743e-47),\n",
       " (177, 7.3600285495194097e-47),\n",
       " (51, 7.0375327411693139e-47),\n",
       " (42, 3.8561616126436711e-47),\n",
       " (54, 3.8318270349908572e-47),\n",
       " (57, 3.1213378939041829e-47),\n",
       " (91, 2.99860501559547e-47),\n",
       " (143, 2.5282405960175496e-47),\n",
       " (158, 1.7756805322287288e-47),\n",
       " (55, 1.5577375403751401e-47),\n",
       " (35, 1.5553505085304189e-47),\n",
       " (146, 1.3132454955429117e-47),\n",
       " (64, 8.0857190982230711e-48),\n",
       " (105, 1.9083148679312079e-48),\n",
       " (28, 4.7634648156346946e-54),\n",
       " (175, 1.1585328511593481e-62),\n",
       " (199, 0.0),\n",
       " (191, 0.0),\n",
       " (165, 0.0),\n",
       " (116, 0.0),\n",
       " (106, 0.0),\n",
       " (90, 0.0),\n",
       " (86, 0.0),\n",
       " (83, 0.0),\n",
       " (82, 0.0),\n",
       " (6, 0.0)]"
      ]
     },
     "execution_count": 12,
     "metadata": {},
     "output_type": "execute_result"
    }
   ],
   "source": [
    "for word in "
   ]
  },
  {
   "cell_type": "code",
   "execution_count": 13,
   "metadata": {
    "collapsed": true
   },
   "outputs": [],
   "source": [
    "words, importances = word_dict.keys(), []\n",
    "for word in words:\n",
    "    important_vec = np.asarray([embed[word_dict[word]][141], embed[word_dict[word]][95], embed[word_dict[word]][87], embed[word_dict[word]][71], embed[word_dict[word]][16]])\n",
    "    importances.append(np.linalg.norm(important_vec))\n",
    "importances, words = zip(*sorted(zip(importances, words)))"
   ]
  },
  {
   "cell_type": "code",
   "execution_count": 14,
   "metadata": {
    "collapsed": false
   },
   "outputs": [
    {
     "data": {
      "text/plain": [
       "('the',\n",
       " '\\xd0\\xaf',\n",
       " 'and',\n",
       " 'to',\n",
       " 'that',\n",
       " 'voatco',\n",
       " 'a',\n",
       " 'of',\n",
       " 'delaware',\n",
       " 'materially',\n",
       " 'is',\n",
       " 'it',\n",
       " 'conclusive',\n",
       " 'regimes',\n",
       " 'in',\n",
       " 'nina',\n",
       " 'disturbed',\n",
       " '\\xd0\\xb2',\n",
       " 'unifying',\n",
       " '950',\n",
       " 'but',\n",
       " 'for',\n",
       " 'leslie',\n",
       " 'he',\n",
       " 'sameday',\n",
       " 'i',\n",
       " 'foe',\n",
       " 'yorker',\n",
       " 'greasemonkey',\n",
       " 'trump',\n",
       " 'they',\n",
       " 'catered',\n",
       " 'daniels',\n",
       " 'convinces',\n",
       " 'advantageous',\n",
       " 'clapping',\n",
       " 'merchandise',\n",
       " 'rosie',\n",
       " '\\xf0\\x9f\\x92\\xaf',\n",
       " 'subredditmessagecomposetorthedonald',\n",
       " 'antichrist',\n",
       " 'caucuss',\n",
       " 'useraposs',\n",
       " 'watchdog',\n",
       " 'actually',\n",
       " '\\xf0\\x9f\\x91\\x80',\n",
       " 'hijack',\n",
       " 'you',\n",
       " 'gifted',\n",
       " 'shaken',\n",
       " 'circulation',\n",
       " 'assuredly',\n",
       " 'so',\n",
       " 'impunity',\n",
       " 'minors',\n",
       " 'walsh',\n",
       " 'vendetta',\n",
       " 'disrupting',\n",
       " 'him',\n",
       " 'corp',\n",
       " 'favourite',\n",
       " '111',\n",
       " 'circulated',\n",
       " 'resting',\n",
       " 'slipping',\n",
       " 'wellliked',\n",
       " '\\xd1\\x8d\\xd1\\x82\\xd0\\xbe',\n",
       " 'swamp',\n",
       " 'economical',\n",
       " 'hotline',\n",
       " 'altitude',\n",
       " 'consolidating',\n",
       " 'hintuse',\n",
       " 'carlson',\n",
       " 'them',\n",
       " 'ifif',\n",
       " 'reluctantly',\n",
       " 'devious1087',\n",
       " 'not',\n",
       " 'odonnell',\n",
       " '\\xd1\\x8f',\n",
       " 'undoing',\n",
       " 'malpractice',\n",
       " 'foothold',\n",
       " '4way',\n",
       " 'llc',\n",
       " 'copypaste',\n",
       " 'fringes',\n",
       " 'manchester',\n",
       " 'doxing',\n",
       " 'his',\n",
       " 'lightyears',\n",
       " 'tissue',\n",
       " 'its',\n",
       " 'miraculously',\n",
       " 'nay',\n",
       " 'communicating',\n",
       " 'anal',\n",
       " 'clinton',\n",
       " 'impotent')"
      ]
     },
     "execution_count": 14,
     "metadata": {},
     "output_type": "execute_result"
    }
   ],
   "source": [
    "words[::-1][:100]"
   ]
  },
  {
   "cell_type": "code",
   "execution_count": 102,
   "metadata": {
    "collapsed": false
   },
   "outputs": [
    {
     "data": {
      "text/plain": [
       "(0.065451332327336229, 0.26650745892123695)"
      ]
     },
     "execution_count": 102,
     "metadata": {},
     "output_type": "execute_result"
    },
    {
     "data": {
      "image/png": "[encoded data removed]",
      "text/plain": [
       "<matplotlib.figure.Figure at 0x7fd56749b790>"
      ]
     },
     "metadata": {},
     "output_type": "display_data"
    }
   ],
   "source": [
    "plt.hist(np.abs(sub_time_vectors[(\"politics\", 9)]) - np.abs(sub_time_vectors[(\"politics\", 3)]))\n",
    "np.ndarray.tolist(ncembed[0]).index(max(ncembed[0]))\n",
    "np.ndarray.tolist(ncembed[3]).index(max(ncembed[3]))\n",
    "ncembed[5][138], ncembed[3][138]"
   ]
  },
  {
   "cell_type": "code",
   "execution_count": 15,
   "metadata": {
    "collapsed": true
   },
   "outputs": [],
   "source": [
    "a, b = zip(*sorted(zip(np.abs(sub_time_vectors[(\"politics\", 9)]) - np.abs(sub_time_vectors[(\"politics\", 3)]), range(200))))"
   ]
  },
  {
   "cell_type": "code",
   "execution_count": 16,
   "metadata": {
    "collapsed": false
   },
   "outputs": [
    {
     "data": {
      "text/plain": [
       "[(-0.017383613145868688, 150),\n",
       " (-0.01020420865886078, 49),\n",
       " (-0.0070433267492853958, 120),\n",
       " (-0.0069605714750638689, 197),\n",
       " (-0.0065235661744418912, 183),\n",
       " (-0.0061285283466760978, 173),\n",
       " (-0.0034582261793995994, 141),\n",
       " (-0.0033967671322575367, 111),\n",
       " (-0.0031938737168708872, 21),\n",
       " (-0.0030648175739461068, 18),\n",
       " (-0.0023898672475771571, 2),\n",
       " (-0.001548607259595569, 80),\n",
       " (-0.0013602101665861951, 61),\n",
       " (-0.0010848609490818478, 87),\n",
       " (-0.0006634940349143373, 44),\n",
       " (-0.00032195919301514046, 103),\n",
       " (-0.00028568430893983424, 5),\n",
       " (-0.00023999419466429802, 182),\n",
       " (-0.00020735759820199057, 163),\n",
       " (-0.00019600511882939594, 134),\n",
       " (-0.00014824735773764745, 155),\n",
       " (-0.00010891488197118347, 149),\n",
       " (-0.00010726071079792277, 186),\n",
       " (-9.3522076393515174e-05, 178),\n",
       " (-5.1331442338336045e-05, 3),\n",
       " (-4.9882004817611812e-05, 23),\n",
       " (-4.8156126582266957e-05, 97),\n",
       " (-2.6020444702476962e-05, 124),\n",
       " (-4.9652819169646034e-06, 127),\n",
       " (-1.4210826614364375e-06, 11),\n",
       " (-1.9881197023219514e-12, 15),\n",
       " (-1.2263340088480573e-13, 14),\n",
       " (-2.9700391164120417e-14, 137),\n",
       " (-2.3707383414664169e-20, 184),\n",
       " (-1.6994747043197975e-21, 32),\n",
       " (-3.8207985018126004e-24, 93),\n",
       " (-2.3402324626796642e-26, 166),\n",
       " (-3.1635486880487391e-43, 175),\n",
       " (-1.2510859687046625e-46, 108),\n",
       " (-1.24594045717852e-46, 74),\n",
       " (-1.2095744652425513e-46, 12),\n",
       " (-1.1498617283469824e-46, 132),\n",
       " (-1.1050162578570128e-46, 161),\n",
       " (-1.0494176160307237e-46, 8),\n",
       " (-7.7944605727382071e-47, 177),\n",
       " (-3.8223172450230105e-47, 54),\n",
       " (-3.802485470775904e-47, 105),\n",
       " (-2.5859525700283909e-47, 64),\n",
       " (-2.3173644592415017e-47, 158),\n",
       " (-1.9997929345880116e-47, 51),\n",
       " (-1.6628477236412618e-47, 37),\n",
       " (-1.0663519321262728e-47, 55),\n",
       " (-6.1091948304400021e-48, 35),\n",
       " (-5.3286238672399555e-48, 146),\n",
       " (0.0, 6),\n",
       " (0.0, 82),\n",
       " (0.0, 83),\n",
       " (0.0, 86),\n",
       " (0.0, 90),\n",
       " (0.0, 106),\n",
       " (0.0, 116),\n",
       " (0.0, 165),\n",
       " (0.0, 191),\n",
       " (0.0, 199),\n",
       " (4.7634648156340843e-54, 28),\n",
       " (3.9471546288935802e-48, 57),\n",
       " (4.8390760297009056e-48, 91),\n",
       " (5.9734586238558615e-48, 109),\n",
       " (9.0737179122593721e-48, 126),\n",
       " (2.4137585129994006e-47, 98),\n",
       " (2.5282405960175496e-47, 143),\n",
       " (3.324402904691224e-47, 42),\n",
       " (1.2692812178622619e-46, 40),\n",
       " (1.2578927394809447e-43, 73),\n",
       " (2.7410439230994339e-42, 75),\n",
       " (7.0782843075807522e-41, 188),\n",
       " (5.7582457165941274e-40, 76),\n",
       " (1.0794830949893278e-38, 17),\n",
       " (2.6020058388399931e-38, 139),\n",
       " (3.6417023028023876e-37, 195),\n",
       " (1.876237206950363e-36, 96),\n",
       " (4.5191008463209404e-36, 185),\n",
       " (1.1021415286054293e-35, 84),\n",
       " (1.7594368761523281e-29, 169),\n",
       " (8.6044333650168071e-23, 115),\n",
       " (2.4298064164071883e-22, 58),\n",
       " (2.8157141125222248e-22, 104),\n",
       " (5.9357300420016197e-22, 147),\n",
       " (4.0981288977954821e-21, 152),\n",
       " (4.3256107946805579e-20, 59),\n",
       " (1.3429018544674363e-19, 65),\n",
       " (1.7995773035310497e-16, 38),\n",
       " (1.9051558817583148e-16, 33),\n",
       " (6.8812103159723137e-13, 10),\n",
       " (7.8884760195524867e-11, 63),\n",
       " (1.3336860151908327e-10, 154),\n",
       " (2.1449124808898672e-08, 30),\n",
       " (1.3872634402012637e-06, 180),\n",
       " (1.4854318732941397e-05, 50),\n",
       " (1.819260721072375e-05, 107),\n",
       " (1.8931565265827878e-05, 179),\n",
       " (1.9709907267510818e-05, 136),\n",
       " (2.5229718170757982e-05, 162),\n",
       " (2.5806544288960002e-05, 121),\n",
       " (4.1031775131711388e-05, 24),\n",
       " (6.3311363478851107e-05, 131),\n",
       " (6.4042203138560058e-05, 92),\n",
       " (7.0563966977703688e-05, 41),\n",
       " (7.9368853781624192e-05, 31),\n",
       " (8.5609957416887469e-05, 1),\n",
       " (9.3613485327532963e-05, 110),\n",
       " (0.00010369754693000197, 66),\n",
       " (0.00010397698883966681, 13),\n",
       " (0.00010801820010953971, 194),\n",
       " (0.00010942527944609367, 99),\n",
       " (0.00011638139782034918, 27),\n",
       " (0.00011770059113284503, 168),\n",
       " (0.00012029647107622381, 159),\n",
       " (0.00012596992430256859, 0),\n",
       " (0.00012731564754307582, 25),\n",
       " (0.00013415294415484915, 145),\n",
       " (0.00014876903108238838, 56),\n",
       " (0.00014903496715299846, 48),\n",
       " (0.00015432220088704238, 69),\n",
       " (0.00015783718056831646, 122),\n",
       " (0.00015843587466200012, 128),\n",
       " (0.00016640712082679164, 167),\n",
       " (0.00016843433457708681, 4),\n",
       " (0.00018355909618904091, 60),\n",
       " (0.00018908414782855577, 113),\n",
       " (0.00019047598013796022, 9),\n",
       " (0.00020283501209228828, 19),\n",
       " (0.00020326662427543052, 101),\n",
       " (0.00022137760397315537, 142),\n",
       " (0.00022245034292701221, 160),\n",
       " (0.00022457584507690719, 112),\n",
       " (0.00022678407177401279, 29),\n",
       " (0.00024096012035078503, 36),\n",
       " (0.00025187993317531566, 34),\n",
       " (0.00025452052046164367, 67),\n",
       " (0.00025473188601983585, 39),\n",
       " (0.00025891990507614579, 78),\n",
       " (0.00026248852396686551, 156),\n",
       " (0.00027257224027558112, 94),\n",
       " (0.00027742860725362296, 43),\n",
       " (0.0002816773132918917, 117),\n",
       " (0.00028285958057867096, 102),\n",
       " (0.00028688712026761834, 22),\n",
       " (0.00029000071934271072, 171),\n",
       " (0.00029475303808213903, 148),\n",
       " (0.00029837604434602202, 72),\n",
       " (0.00031120018286414503, 52),\n",
       " (0.0003290012697450247, 68),\n",
       " (0.00033433120132400369, 118),\n",
       " (0.00034692646095408567, 190),\n",
       " (0.00034754990880775469, 123),\n",
       " (0.00035579670477924909, 174),\n",
       " (0.00036606682123122535, 114),\n",
       " (0.00037054214510342121, 119),\n",
       " (0.00038271777656196781, 176),\n",
       " (0.00038390705741655172, 79),\n",
       " (0.00038762596515283434, 140),\n",
       " (0.00040010926379046956, 189),\n",
       " (0.00040536965674210345, 46),\n",
       " (0.00041723609357512993, 20),\n",
       " (0.00043269137582906125, 47),\n",
       " (0.00043365444513227078, 196),\n",
       " (0.00046069409615867758, 125),\n",
       " (0.00046533723444978307, 172),\n",
       " (0.00048093502734106869, 26),\n",
       " (0.00048527217395064916, 198),\n",
       " (0.00048635564175932965, 187),\n",
       " (0.00051602534239223417, 170),\n",
       " (0.00052631187905779597, 70),\n",
       " (0.00056262914849263251, 130),\n",
       " (0.00057251569808374012, 157),\n",
       " (0.00058077915468210829, 100),\n",
       " (0.00059539211478798915, 45),\n",
       " (0.00060173247552202432, 88),\n",
       " (0.0006756875782123323, 133),\n",
       " (0.00069819590443406278, 144),\n",
       " (0.00072391238614024061, 192),\n",
       " (0.0007920568208420126, 129),\n",
       " (0.00081577546491867596, 7),\n",
       " (0.00088512921412484472, 77),\n",
       " (0.0010607591989472611, 151),\n",
       " (0.0012214784539297694, 62),\n",
       " (0.0013615806776323381, 81),\n",
       " (0.0014749369643821319, 193),\n",
       " (0.0018508685897038477, 164),\n",
       " (0.0018888125409644626, 153),\n",
       " (0.00200229235524286, 85),\n",
       " (0.0028375131864814131, 135),\n",
       " (0.003128679829997566, 95),\n",
       " (0.0034017052006622443, 53),\n",
       " (0.0041416989637648987, 138),\n",
       " (0.0041503491489925156, 181),\n",
       " (0.0042061118829126391, 89),\n",
       " (0.014536772311613228, 16),\n",
       " (0.020426446319060057, 71)]"
      ]
     },
     "execution_count": 16,
     "metadata": {},
     "output_type": "execute_result"
    }
   ],
   "source": [
    "zip(a, b)"
   ]
  },
  {
   "cell_type": "code",
   "execution_count": 20,
   "metadata": {
    "collapsed": true
   },
   "outputs": [],
   "source": [
    "words, importances = word_dict.keys(), []\n",
    "for word in words:\n",
    "    important_vec = np.asarray([embed[word_dict[word]][150], embed[word_dict[word]][49]])\n",
    "    importances.append(np.linalg.norm(important_vec))\n",
    "importances, words = zip(*sorted(zip(importances, words)))"
   ]
  },
  {
   "cell_type": "code",
   "execution_count": 21,
   "metadata": {
    "collapsed": false
   },
   "outputs": [
    {
     "data": {
      "text/plain": [
       "('mcmullin',\n",
       " 'matthews',\n",
       " 'bloomberg',\n",
       " 'israel',\n",
       " 'manafort',\n",
       " 'pepe',\n",
       " 'bounce',\n",
       " 'banc',\n",
       " 'plagiarism',\n",
       " 'corporations',\n",
       " 'melania',\n",
       " 'jobs',\n",
       " 'perjury',\n",
       " 'nevada',\n",
       " 'mole',\n",
       " 'pneumonia',\n",
       " 'cunt',\n",
       " 'wives',\n",
       " 'khan',\n",
       " 'ducks',\n",
       " '3d',\n",
       " 'shelters',\n",
       " 'bump',\n",
       " 'tiffany',\n",
       " 'panama',\n",
       " 'meta',\n",
       " 'pussy',\n",
       " 'the',\n",
       " 'accusers',\n",
       " 'companies',\n",
       " 'obamacare',\n",
       " 'civilian',\n",
       " 'tribune',\n",
       " 'military',\n",
       " 'company',\n",
       " 'and',\n",
       " 'tyranny',\n",
       " 'cuba',\n",
       " '\\xc2\\xa7',\n",
       " 'superdelegates',\n",
       " 'that',\n",
       " 'shitredditsays',\n",
       " 'to',\n",
       " 'bernie',\n",
       " '\\xf0\\x9f\\x98\\x82',\n",
       " 'mfw',\n",
       " 'of',\n",
       " 'vegas',\n",
       " '\\xe2\\x80\\xa2',\n",
       " 'ec')"
      ]
     },
     "execution_count": 21,
     "metadata": {},
     "output_type": "execute_result"
    }
   ],
   "source": [
    "words[::-1][:50]"
   ]
  },
  {
   "cell_type": "code",
   "execution_count": 103,
   "metadata": {
    "collapsed": false
   },
   "outputs": [
    {
     "data": {
      "text/plain": [
       "<matplotlib.collections.PathCollection at 0x7fd567398610>"
      ]
     },
     "execution_count": 103,
     "metadata": {},
     "output_type": "execute_result"
    },
    {
     "data": {
      "image/png": "[encoded data removed]",
      "text/plain": [
       "<matplotlib.figure.Figure at 0x7fd56749b390>"
      ]
     },
     "metadata": {},
     "output_type": "display_data"
    }
   ],
   "source": [
    "plt.scatter(sub_time_vectors[(\"politics\", 9)], sub_time_vectors[(\"politics\", 3)])"
   ]
  },
  {
   "cell_type": "markdown",
   "metadata": {},
   "source": [
    "# Sparsity in vectors"
   ]
  },
  {
   "cell_type": "code",
   "execution_count": 64,
   "metadata": {
    "collapsed": false
   },
   "outputs": [],
   "source": [
    "view_vector = np.multiply(ccembed[5], ttembed[8])"
   ]
  },
  {
   "cell_type": "code",
   "execution_count": 61,
   "metadata": {
    "collapsed": false
   },
   "outputs": [],
   "source": [
    "indices, view_vector = view_vector, indices"
   ]
  },
  {
   "cell_type": "code",
   "execution_count": 69,
   "metadata": {
    "collapsed": false
   },
   "outputs": [
    {
     "data": {
      "text/plain": [
       "(56, 138, 89, 189, 153, 141, 95, 87, 71, 16)"
      ]
     },
     "execution_count": 69,
     "metadata": {},
     "output_type": "execute_result"
    }
   ],
   "source": [
    "indices[-10:]"
   ]
  },
  {
   "cell_type": "code",
   "execution_count": 98,
   "metadata": {
    "collapsed": false
   },
   "outputs": [],
   "source": [
    "words, importances = word_dict.keys(), []\n",
    "for word in words:\n",
    "    important_vec = np.asarray([embed[word_dict[word]][141], embed[word_dict[word]][95], embed[word_dict[word]][87], embed[word_dict[word]][71], embed[word_dict[word]][16]])\n",
    "    importances.append(np.linalg.norm(important_vec))\n",
    "importances, words = zip(*sorted(zip(importances, words)))"
   ]
  },
  {
   "cell_type": "code",
   "execution_count": 101,
   "metadata": {
    "collapsed": false
   },
   "outputs": [
    {
     "data": {
      "text/plain": [
       "('impotent',\n",
       " 'clinton',\n",
       " 'anal',\n",
       " 'communicating',\n",
       " 'nay',\n",
       " 'miraculously',\n",
       " 'its',\n",
       " 'tissue',\n",
       " 'lightyears',\n",
       " 'his',\n",
       " 'doxing',\n",
       " 'manchester',\n",
       " 'fringes',\n",
       " 'copypaste',\n",
       " 'llc',\n",
       " '4way',\n",
       " 'foothold',\n",
       " 'malpractice',\n",
       " 'undoing',\n",
       " '\\xd1\\x8f',\n",
       " 'odonnell',\n",
       " 'not',\n",
       " 'devious1087',\n",
       " 'reluctantly',\n",
       " 'ifif',\n",
       " 'them',\n",
       " 'carlson',\n",
       " 'hintuse',\n",
       " 'consolidating',\n",
       " 'altitude',\n",
       " 'hotline',\n",
       " 'economical',\n",
       " 'swamp',\n",
       " '\\xd1\\x8d\\xd1\\x82\\xd0\\xbe',\n",
       " 'wellliked',\n",
       " 'slipping',\n",
       " 'resting',\n",
       " 'circulated',\n",
       " '111',\n",
       " 'favourite',\n",
       " 'corp',\n",
       " 'him',\n",
       " 'disrupting',\n",
       " 'vendetta',\n",
       " 'walsh',\n",
       " 'minors',\n",
       " 'impunity',\n",
       " 'so',\n",
       " 'assuredly',\n",
       " 'circulation',\n",
       " 'shaken',\n",
       " 'gifted',\n",
       " 'you',\n",
       " 'hijack',\n",
       " '\\xf0\\x9f\\x91\\x80',\n",
       " 'actually',\n",
       " 'watchdog',\n",
       " 'useraposs',\n",
       " 'caucuss',\n",
       " 'antichrist',\n",
       " 'subredditmessagecomposetorthedonald',\n",
       " '\\xf0\\x9f\\x92\\xaf',\n",
       " 'rosie',\n",
       " 'merchandise',\n",
       " 'clapping',\n",
       " 'advantageous',\n",
       " 'convinces',\n",
       " 'daniels',\n",
       " 'catered',\n",
       " 'they',\n",
       " 'trump',\n",
       " 'greasemonkey',\n",
       " 'yorker',\n",
       " 'foe',\n",
       " 'i',\n",
       " 'sameday',\n",
       " 'he',\n",
       " 'leslie',\n",
       " 'for',\n",
       " 'but',\n",
       " '950',\n",
       " 'unifying',\n",
       " '\\xd0\\xb2',\n",
       " 'disturbed',\n",
       " 'nina',\n",
       " 'in',\n",
       " 'regimes',\n",
       " 'conclusive',\n",
       " 'it',\n",
       " 'is',\n",
       " 'materially',\n",
       " 'delaware',\n",
       " 'of',\n",
       " 'a',\n",
       " 'voatco',\n",
       " 'that',\n",
       " 'to',\n",
       " 'and',\n",
       " '\\xd0\\xaf',\n",
       " 'the')"
      ]
     },
     "execution_count": 101,
     "metadata": {},
     "output_type": "execute_result"
    }
   ],
   "source": [
    "words[-100:]"
   ]
  },
  {
   "cell_type": "markdown",
   "metadata": {},
   "source": [
    "# Cosine similarity analogies (view)"
   ]
  },
  {
   "cell_type": "code",
   "execution_count": 39,
   "metadata": {
    "collapsed": true
   },
   "outputs": [],
   "source": [
    "# Find closest word by cosine similarity to: word1 : word2 :: word3 : ???, i.e. word2 + word3 - word1\n",
    "# w is words, wd is word_dict\n",
    "def cosine_analogies(embed, w, wd, word1, word2, word3, thresh):\n",
    "    match = embed[wd[word2]] - embed[wd[word1]]\n",
    "    norm1 = np.linalg.norm(match)\n",
    "    tries, dists = [], []\n",
    "    for i in xrange(len(embed)):\n",
    "        tries.append(w[i])\n",
    "        against = embed[wd[word3]] - embed[wd[w[i]]]\n",
    "        norm2 = np.linalg.norm(against)\n",
    "        if norm2 < thresh:\n",
    "            dists.append(np.dot(against, match) / (np.linalg.norm(against) * np.linalg.norm(match)))\n",
    "        else:\n",
    "            dists.append(0.0)\n",
    "    dists, tries = zip(*sorted(zip(dists, tries)))\n",
    "    return tries\n",
    "\n",
    "def cosine_axis_analogies(embed, w, wd, word1, word2, thresh):\n",
    "    match = embed[wd[word2]] - embed[wd[word1]]\n",
    "    norm1 = np.linalg.norm(match)\n",
    "    tries, dists = [], []\n",
    "    for i in xrange(len(embed)):\n",
    "        for j in xrange(i):\n",
    "            against = embed[i] - embed[j]\n",
    "            norm2 = np.linalg.norm(against)\n",
    "            if norm2 < thresh:\n",
    "                dists.append(np.dot(against, match) / (np.linalg.norm(against) * np.linalg.norm(match)))\n",
    "                tries.append((w[i], w[j]))\n",
    "    dists, tries = zip(*sorted(zip(dists, tries)))\n",
    "    return tries"
   ]
  },
  {
   "cell_type": "code",
   "execution_count": 51,
   "metadata": {
    "collapsed": false
   },
   "outputs": [
    {
     "name": "stderr",
     "output_type": "stream",
     "text": [
      "/Users/kjtian/anaconda2/lib/python2.7/site-packages/ipykernel/__main__.py:12: RuntimeWarning: invalid value encountered in double_scalars\n"
     ]
    }
   ],
   "source": [
    "view = sub_time_embed[(\"politics\", 10)]\n",
    "closest = cosine_analogies(view, words, word_dict, \"hillary\", \"trump\", \"democrat\", 1.5)"
   ]
  },
  {
   "cell_type": "code",
   "execution_count": 52,
   "metadata": {
    "collapsed": false
   },
   "outputs": [
    {
     "data": {
      "text/plain": [
       "('club',\n",
       " 'donald',\n",
       " 'christian',\n",
       " 'chicago',\n",
       " 'golf',\n",
       " 'redpilled',\n",
       " 'hotel',\n",
       " 'family',\n",
       " 'voter',\n",
       " 'leader',\n",
       " 'hitler',\n",
       " 'sometimes',\n",
       " 'opposition',\n",
       " 'hed',\n",
       " 'anime',\n",
       " 'sunday',\n",
       " 'nazi',\n",
       " 'territory',\n",
       " 'eric',\n",
       " 'party',\n",
       " 'phony',\n",
       " 'leaders',\n",
       " 'pageant',\n",
       " 'hat',\n",
       " 'colorado',\n",
       " 'ids',\n",
       " '\\xd0\\xaf',\n",
       " 'ryan',\n",
       " 'watching',\n",
       " 'mcconnell',\n",
       " 'says',\n",
       " 'equipment',\n",
       " 'patriotism',\n",
       " 'sidelines',\n",
       " 'start',\n",
       " 'manage',\n",
       " 'among',\n",
       " 'measure',\n",
       " 'crowd',\n",
       " 'leave',\n",
       " 'display',\n",
       " 'picks',\n",
       " 'mate',\n",
       " 'corps',\n",
       " 'onto',\n",
       " 'govern',\n",
       " 'call',\n",
       " 'casino',\n",
       " '2015',\n",
       " 'london',\n",
       " 'besides',\n",
       " 'die',\n",
       " 'face',\n",
       " 'fix',\n",
       " 'lucky',\n",
       " 'kellyanne',\n",
       " 'ideas',\n",
       " 'nice',\n",
       " 'households',\n",
       " 'freeze',\n",
       " 'running',\n",
       " 'gonna',\n",
       " 'intimidation',\n",
       " 'bank',\n",
       " '2014',\n",
       " 'although',\n",
       " 'degenerate',\n",
       " 'slew',\n",
       " 'senator',\n",
       " 'hispanics',\n",
       " 'little',\n",
       " 'blocking',\n",
       " 'enforce',\n",
       " 'help',\n",
       " 'babies',\n",
       " 'thinking',\n",
       " 'kelly',\n",
       " 'angeles',\n",
       " 'proud',\n",
       " 'monkey',\n",
       " 'targets',\n",
       " 'criminals',\n",
       " 'clown',\n",
       " 'admissions',\n",
       " '\\xd0\\xbd\\xd0\\xbe',\n",
       " 'suffer',\n",
       " 'politically',\n",
       " 'especially',\n",
       " 'waking',\n",
       " 'brink',\n",
       " 'rising',\n",
       " 'fanatic',\n",
       " 'ukip',\n",
       " 'become',\n",
       " 'pic',\n",
       " 'green',\n",
       " 'charity',\n",
       " 'privileged',\n",
       " '42',\n",
       " 'citizen')"
      ]
     },
     "execution_count": 52,
     "metadata": {},
     "output_type": "execute_result"
    }
   ],
   "source": [
    "closest[:100]"
   ]
  },
  {
   "cell_type": "code",
   "execution_count": 91,
   "metadata": {
    "collapsed": false
   },
   "outputs": [
    {
     "ename": "KeyboardInterrupt",
     "evalue": "",
     "output_type": "error",
     "traceback": [
      "\u001b[0;31m\u001b[0m",
      "\u001b[0;31mKeyboardInterrupt\u001b[0mTraceback (most recent call last)",
      "\u001b[0;32m<ipython-input-91-464ed715254a>\u001b[0m in \u001b[0;36m<module>\u001b[0;34m()\u001b[0m\n\u001b[0;32m----> 1\u001b[0;31m \u001b[0mclosest\u001b[0m \u001b[0;34m=\u001b[0m \u001b[0mcosine_axis_analogies\u001b[0m\u001b[0;34m(\u001b[0m\u001b[0mview\u001b[0m\u001b[0;34m,\u001b[0m \u001b[0mwords\u001b[0m\u001b[0;34m,\u001b[0m \u001b[0mword_dict\u001b[0m\u001b[0;34m,\u001b[0m \u001b[0;34m\"hillary\"\u001b[0m\u001b[0;34m,\u001b[0m \u001b[0;34m\"trump\"\u001b[0m\u001b[0;34m,\u001b[0m \u001b[0;36m1.5\u001b[0m\u001b[0;34m)\u001b[0m\u001b[0;34m\u001b[0m\u001b[0m\n\u001b[0m\u001b[1;32m      2\u001b[0m \u001b[0;32mprint\u001b[0m \u001b[0;34m\"done\"\u001b[0m\u001b[0;34m\u001b[0m\u001b[0m\n",
      "\u001b[0;32m<ipython-input-7-6b358f2b41a2>\u001b[0m in \u001b[0;36mcosine_axis_analogies\u001b[0;34m(embed, w, wd, word1, word2, thresh)\u001b[0m\n\u001b[1;32m     25\u001b[0m             \u001b[0mnorm2\u001b[0m \u001b[0;34m=\u001b[0m \u001b[0mnp\u001b[0m\u001b[0;34m.\u001b[0m\u001b[0mlinalg\u001b[0m\u001b[0;34m.\u001b[0m\u001b[0mnorm\u001b[0m\u001b[0;34m(\u001b[0m\u001b[0magainst\u001b[0m\u001b[0;34m)\u001b[0m\u001b[0;34m\u001b[0m\u001b[0m\n\u001b[1;32m     26\u001b[0m             \u001b[0;32mif\u001b[0m \u001b[0mnorm2\u001b[0m \u001b[0;34m<\u001b[0m \u001b[0mthresh\u001b[0m\u001b[0;34m:\u001b[0m\u001b[0;34m\u001b[0m\u001b[0m\n\u001b[0;32m---> 27\u001b[0;31m                 \u001b[0mdists\u001b[0m\u001b[0;34m.\u001b[0m\u001b[0mappend\u001b[0m\u001b[0;34m(\u001b[0m\u001b[0mnp\u001b[0m\u001b[0;34m.\u001b[0m\u001b[0mdot\u001b[0m\u001b[0;34m(\u001b[0m\u001b[0magainst\u001b[0m\u001b[0;34m,\u001b[0m \u001b[0mmatch\u001b[0m\u001b[0;34m)\u001b[0m \u001b[0;34m/\u001b[0m \u001b[0;34m(\u001b[0m\u001b[0mnp\u001b[0m\u001b[0;34m.\u001b[0m\u001b[0mlinalg\u001b[0m\u001b[0;34m.\u001b[0m\u001b[0mnorm\u001b[0m\u001b[0;34m(\u001b[0m\u001b[0magainst\u001b[0m\u001b[0;34m)\u001b[0m \u001b[0;34m*\u001b[0m \u001b[0mnp\u001b[0m\u001b[0;34m.\u001b[0m\u001b[0mlinalg\u001b[0m\u001b[0;34m.\u001b[0m\u001b[0mnorm\u001b[0m\u001b[0;34m(\u001b[0m\u001b[0mmatch\u001b[0m\u001b[0;34m)\u001b[0m\u001b[0;34m)\u001b[0m\u001b[0;34m)\u001b[0m\u001b[0;34m\u001b[0m\u001b[0m\n\u001b[0m\u001b[1;32m     28\u001b[0m                 \u001b[0mtries\u001b[0m\u001b[0;34m.\u001b[0m\u001b[0mappend\u001b[0m\u001b[0;34m(\u001b[0m\u001b[0;34m(\u001b[0m\u001b[0mw\u001b[0m\u001b[0;34m[\u001b[0m\u001b[0mi\u001b[0m\u001b[0;34m]\u001b[0m\u001b[0;34m,\u001b[0m \u001b[0mw\u001b[0m\u001b[0;34m[\u001b[0m\u001b[0mj\u001b[0m\u001b[0;34m]\u001b[0m\u001b[0;34m)\u001b[0m\u001b[0;34m)\u001b[0m\u001b[0;34m\u001b[0m\u001b[0m\n\u001b[1;32m     29\u001b[0m     \u001b[0mdists\u001b[0m\u001b[0;34m,\u001b[0m \u001b[0mtries\u001b[0m \u001b[0;34m=\u001b[0m \u001b[0mzip\u001b[0m\u001b[0;34m(\u001b[0m\u001b[0;34m*\u001b[0m\u001b[0msorted\u001b[0m\u001b[0;34m(\u001b[0m\u001b[0mzip\u001b[0m\u001b[0;34m(\u001b[0m\u001b[0mdists\u001b[0m\u001b[0;34m,\u001b[0m \u001b[0mtries\u001b[0m\u001b[0;34m)\u001b[0m\u001b[0;34m)\u001b[0m\u001b[0;34m)\u001b[0m\u001b[0;34m\u001b[0m\u001b[0m\n",
      "\u001b[0;31mKeyboardInterrupt\u001b[0m: "
     ]
    }
   ],
   "source": [
    "closest = cosine_axis_analogies(view, words, word_dict, \"hillary\", \"trump\", 1.5)\n",
    "print \"done\""
   ]
  },
  {
   "cell_type": "code",
   "execution_count": 96,
   "metadata": {
    "collapsed": false
   },
   "outputs": [
    {
     "data": {
      "text/plain": [
       "('donald',\n",
       " 'supporters',\n",
       " 'presidency',\n",
       " 'golf',\n",
       " 'putin',\n",
       " 'anti',\n",
       " 'trumps',\n",
       " 'melania',\n",
       " 'defeat',\n",
       " 'rallies',\n",
       " 'cruz',\n",
       " 'hotel',\n",
       " 'ignore',\n",
       " 'official',\n",
       " 'hes',\n",
       " 'sen',\n",
       " 'ca',\n",
       " 'vs',\n",
       " 'master',\n",
       " 'tv',\n",
       " 'saying',\n",
       " 'race',\n",
       " 'candidacy',\n",
       " 'pennsylvania',\n",
       " 'crowd',\n",
       " 'ct',\n",
       " 'west',\n",
       " 'nationalism',\n",
       " 'banking',\n",
       " '39',\n",
       " 'returns',\n",
       " 'jesus',\n",
       " 'release',\n",
       " 'democratic',\n",
       " 'stupidity',\n",
       " 'next',\n",
       " 'given',\n",
       " 'hope',\n",
       " 'start',\n",
       " 'shocking')"
      ]
     },
     "execution_count": 96,
     "metadata": {},
     "output_type": "execute_result"
    }
   ],
   "source": [
    "closest[:40]"
   ]
  },
  {
   "cell_type": "code",
   "execution_count": null,
   "metadata": {
    "collapsed": true
   },
   "outputs": [],
   "source": []
  },
  {
   "cell_type": "code",
   "execution_count": null,
   "metadata": {
    "collapsed": true
   },
   "outputs": [],
   "source": []
  },
  {
   "cell_type": "markdown",
   "metadata": {},
   "source": [
    "# View analogies"
   ]
  },
  {
   "cell_type": "code",
   "execution_count": 7,
   "metadata": {
    "collapsed": true
   },
   "outputs": [],
   "source": [
    "# Find closest word to: word1 : word2 :: word3 : ???, i.e. word2 + word3 - word1\n",
    "\n",
    "def analogies(embed, w, wd, word1, word2, word3):\n",
    "    match = embed[wd[word2]] + embed[wd[word3]] - embed[wd[word1]]\n",
    "    tries, dists = [], []\n",
    "    for i in xrange(len(embed)):\n",
    "        tries.append(w[i])\n",
    "        dists.append(np.linalg.norm(embed[i] - match))\n",
    "    dists, tries = zip(*sorted(zip(dists, tries)))\n",
    "    return tries, dists"
   ]
  },
  {
   "cell_type": "code",
   "execution_count": 8,
   "metadata": {
    "collapsed": true
   },
   "outputs": [],
   "source": [
    "view = sub_time_embed[(\"Conservative\", 2)]"
   ]
  },
  {
   "cell_type": "code",
   "execution_count": 12,
   "metadata": {
    "collapsed": false
   },
   "outputs": [
    {
     "data": {
      "text/plain": [
       "(6.9302981126338724e-17,\n",
       " 0.72458286593061516,\n",
       " 0.79704641469603965,\n",
       " 0.79837186683052297,\n",
       " 0.80654739492260563,\n",
       " 0.81776146084137324,\n",
       " 0.82888535867593938,\n",
       " 0.84361212313786982,\n",
       " 0.84612041546162198,\n",
       " 0.85862778000799922,\n",
       " 0.86753199412894377,\n",
       " 0.86845774255812702,\n",
       " 0.86924095429009529,\n",
       " 0.87962218935555825,\n",
       " 0.88231539314177598,\n",
       " 0.88350247224069156,\n",
       " 0.89650001248580702,\n",
       " 0.90192736633438741,\n",
       " 0.90247833153979351,\n",
       " 0.90911320714610888,\n",
       " 0.91211595387852973,\n",
       " 0.9186940913854903,\n",
       " 0.92254983258940493,\n",
       " 0.92683849725384815,\n",
       " 0.93229381946624523,\n",
       " 0.94243162991212159,\n",
       " 0.94333766659982454,\n",
       " 0.946950870299618,\n",
       " 0.95055793025763535,\n",
       " 0.95080538532302472,\n",
       " 0.95527868413094519,\n",
       " 0.95614340457664349,\n",
       " 0.95847475736663934,\n",
       " 0.96311926580768914,\n",
       " 0.96337407628052218,\n",
       " 0.96429725314024661,\n",
       " 0.9647521018803058,\n",
       " 0.96760739787729599,\n",
       " 0.9680597340748397,\n",
       " 0.96838717200349911,\n",
       " 0.9711773761302217,\n",
       " 0.97155599588971231,\n",
       " 0.9722802482496391,\n",
       " 0.97329880982151251,\n",
       " 0.97433040626946277,\n",
       " 0.97520187283927073,\n",
       " 0.97647386510459555,\n",
       " 0.97700554635262815,\n",
       " 0.97703414669668331,\n",
       " 0.97767756619433621,\n",
       " 0.97983195857379501,\n",
       " 0.98085443426592234,\n",
       " 0.98123885562438273,\n",
       " 0.98251872469900081,\n",
       " 0.98316115868732645,\n",
       " 0.98321979411608118,\n",
       " 0.98359109686576818,\n",
       " 0.98394521432265492,\n",
       " 0.9856920032401052,\n",
       " 0.98629643917722376,\n",
       " 0.98637608154781498,\n",
       " 0.98657197970119237,\n",
       " 0.98767688975976009,\n",
       " 0.98879861887027554,\n",
       " 0.98934751475554361,\n",
       " 0.99080410300581379,\n",
       " 0.99129195204010367,\n",
       " 0.99184289733767106,\n",
       " 0.99219263401969982,\n",
       " 0.99501338643892345,\n",
       " 0.99593535155677604,\n",
       " 0.99719015829139845,\n",
       " 0.99725114850977614,\n",
       " 0.99792458130093475,\n",
       " 0.99822938567807595,\n",
       " 0.9987708069968364,\n",
       " 1.0005923728504726,\n",
       " 1.0014495135342247,\n",
       " 1.0019791491873766,\n",
       " 1.0022251477396851,\n",
       " 1.0026781120964112,\n",
       " 1.0040295487422686,\n",
       " 1.0061809325413089,\n",
       " 1.0063023475062598,\n",
       " 1.0102298081047973,\n",
       " 1.0103000008081788,\n",
       " 1.0106296942031341,\n",
       " 1.013471448559941,\n",
       " 1.0137657421699908,\n",
       " 1.0147582888168469,\n",
       " 1.0154488839406897,\n",
       " 1.0158132354613398,\n",
       " 1.0171572555337705,\n",
       " 1.0173125899054836,\n",
       " 1.0175247083960488,\n",
       " 1.0182723838070351,\n",
       " 1.0187121090674798,\n",
       " 1.0198179887790009,\n",
       " 1.0229018548997568,\n",
       " 1.02359652348553,\n",
       " 1.0253734455363859,\n",
       " 1.0258152533787022,\n",
       " 1.0259600576446013,\n",
       " 1.0265229472321464,\n",
       " 1.0286220356249163,\n",
       " 1.0319399557459772,\n",
       " 1.033261874979398,\n",
       " 1.0344295859628763,\n",
       " 1.0344678776881324,\n",
       " 1.0347340833416605,\n",
       " 1.0347351026719673,\n",
       " 1.0350835210376863,\n",
       " 1.037298060558288,\n",
       " 1.0373060569898616,\n",
       " 1.0377108693011197,\n",
       " 1.0383707576499752,\n",
       " 1.0394330135170207,\n",
       " 1.0394428716630875,\n",
       " 1.0399441473388116,\n",
       " 1.0408739166774377,\n",
       " 1.0411576633765338,\n",
       " 1.0414569200543375,\n",
       " 1.0419210373163725,\n",
       " 1.0423330654836163,\n",
       " 1.044672324295322,\n",
       " 1.0448306243188308,\n",
       " 1.0450029729814372,\n",
       " 1.0455531004263323,\n",
       " 1.0463529675681185,\n",
       " 1.0466115571871777,\n",
       " 1.0469118475908059,\n",
       " 1.047383075397146,\n",
       " 1.0477402474776449,\n",
       " 1.047912469503131,\n",
       " 1.0485250634090559,\n",
       " 1.0486000316702033,\n",
       " 1.0489564915677365,\n",
       " 1.0490648315796467,\n",
       " 1.0491416532093116,\n",
       " 1.0503822483848895,\n",
       " 1.0506494730897018,\n",
       " 1.0518345402213047,\n",
       " 1.0521309674886923,\n",
       " 1.0523930401226012,\n",
       " 1.0526314460882626,\n",
       " 1.0541940741696105,\n",
       " 1.0551413856277627,\n",
       " 1.0557169537969024,\n",
       " 1.0557503445822234,\n",
       " 1.0559793868966956,\n",
       " 1.057809860668889,\n",
       " 1.0596194633718663,\n",
       " 1.0596617855949424,\n",
       " 1.0599521646160976,\n",
       " 1.0602598521375115,\n",
       " 1.0608089194619947,\n",
       " 1.061730256791017,\n",
       " 1.0621731137120007,\n",
       " 1.0622310392824177,\n",
       " 1.0623464578520476,\n",
       " 1.0627827321951639,\n",
       " 1.063698892519003,\n",
       " 1.0641002303785192,\n",
       " 1.065096594321187,\n",
       " 1.0657624903217997,\n",
       " 1.0657819843811711,\n",
       " 1.0685540961824784,\n",
       " 1.0685996325655664,\n",
       " 1.0696973639402116,\n",
       " 1.070411808741994,\n",
       " 1.0709324335006041,\n",
       " 1.0712739506595843,\n",
       " 1.0733892064754527,\n",
       " 1.0737196208955062,\n",
       " 1.0737894876484495,\n",
       " 1.0742789027575388,\n",
       " 1.0749389480132794,\n",
       " 1.0758963530296577,\n",
       " 1.0761526343276413,\n",
       " 1.0765287282590614,\n",
       " 1.076883761184567,\n",
       " 1.0774353640650716,\n",
       " 1.0775790473900555,\n",
       " 1.0776076483799322,\n",
       " 1.0798279621705433,\n",
       " 1.0801041939965392,\n",
       " 1.0803512641483251,\n",
       " 1.0812095324615043,\n",
       " 1.0838162976437569,\n",
       " 1.0851616177382939,\n",
       " 1.08557213648349,\n",
       " 1.0868541877241802,\n",
       " 1.0877279008207983,\n",
       " 1.0882073181644523,\n",
       " 1.088345257443174,\n",
       " 1.0889669907316122,\n",
       " 1.089728372418951,\n",
       " 1.0902263744660301,\n",
       " 1.0904124576199967,\n",
       " 1.0909970327839946)"
      ]
     },
     "execution_count": 12,
     "metadata": {},
     "output_type": "execute_result"
    }
   ],
   "source": [
    "a, b = analogies(view, words, word_dict, \"corrupt\", \"corrupt\", \"good\")[:40]\n",
    "b[:200]"
   ]
  },
  {
   "cell_type": "code",
   "execution_count": 63,
   "metadata": {
    "collapsed": true
   },
   "outputs": [],
   "source": [
    "# Sub analogies\n",
    "\n",
    "def sub_analogies(embed, cembed, w, wd, s, word1, sub1, sub2):\n",
    "    match = embed[wd[word1]] + cembed[s.index(sub2)] - cembed[s.index(sub1)]\n",
    "    tries, dists = [], []\n",
    "    for i in xrange(len(embed)):\n",
    "        tries.append(w[i])\n",
    "        dists.append(np.linalg.norm(embed[i] - match))\n",
    "    dists, tries = zip(*sorted(zip(dists, tries)))\n",
    "    return tries"
   ]
  },
  {
   "cell_type": "code",
   "execution_count": 65,
   "metadata": {
    "collapsed": false
   },
   "outputs": [
    {
     "data": {
      "text/plain": [
       "('hillary',\n",
       " 'clinton',\n",
       " 'bernie',\n",
       " 'sanders',\n",
       " 'crooked',\n",
       " 'hilary',\n",
       " 'trump',\n",
       " 'caucuss',\n",
       " 'she',\n",
       " 'her',\n",
       " 'vote',\n",
       " 'supporters',\n",
       " 'support',\n",
       " 'hrc',\n",
       " 'clintons',\n",
       " 'for',\n",
       " 'wins',\n",
       " 'supporting',\n",
       " 'against',\n",
       " 'voting',\n",
       " 'raper',\n",
       " 'foundation',\n",
       " 'still',\n",
       " 'hillarys',\n",
       " 'him',\n",
       " 'actually',\n",
       " 'and',\n",
       " 'he',\n",
       " 'supporter',\n",
       " 'while',\n",
       " 'said',\n",
       " 'but',\n",
       " 'has',\n",
       " 'samille',\n",
       " 'because',\n",
       " 'shes',\n",
       " 'bill',\n",
       " 'that',\n",
       " 'campaign',\n",
       " 'will')"
      ]
     },
     "execution_count": 65,
     "metadata": {},
     "output_type": "execute_result"
    }
   ],
   "source": [
    "sub_analogies(view, ccembed, words, word_dict, subs, \"hillary\", \"The_Donald\", \"politics\")[:40]"
   ]
  },
  {
   "cell_type": "markdown",
   "metadata": {},
   "source": [
    "# Word drift over time\n",
    "\n",
    "How much do a pair of words drift in a subreddit over time?"
   ]
  },
  {
   "cell_type": "code",
   "execution_count": 35,
   "metadata": {
    "collapsed": true
   },
   "outputs": [],
   "source": [
    "def graph(ste, wd, word1, word2, sub):\n",
    "    dists = [np.linalg.norm(ste[(sub, t)][wd[word1]] - ste[(sub, t)][wd[word2]]) for t in xrange(1, 13)]\n",
    "    plt.plot(range(1, 13), dists)"
   ]
  },
  {
   "cell_type": "code",
   "execution_count": 38,
   "metadata": {
    "collapsed": false
   },
   "outputs": [
    {
     "data": {
      "image/png": "[encoded data removed]",
      "text/plain": [
       "<matplotlib.figure.Figure at 0x18a0848d0>"
      ]
     },
     "metadata": {},
     "output_type": "display_data"
    }
   ],
   "source": [
    "graph(sub_time_embed, word_dict, \"hillary\", \"corrupt\", \"SandersForPresident\")"
   ]
  },
  {
   "cell_type": "markdown",
   "metadata": {},
   "source": [
    "# Words that get closer in a view"
   ]
  },
  {
   "cell_type": "code",
   "execution_count": 24,
   "metadata": {
    "collapsed": true
   },
   "outputs": [],
   "source": [
    "def drift(gen_embed, view_embed, w, wd, word):\n",
    "    # words that drift most towards word relative to general embedding\n",
    "    sort_words, sort_ranges = w, []\n",
    "    for i in xrange(len(w)):\n",
    "        shift = np.linalg.norm(view_embed[i] - view_embed[wd[word]]) - np.linalg.norm(gen_embed[i] - gen_embed[wd[word]])\n",
    "        sort_ranges.append(shift)\n",
    "    sort_ranges, sort_words = zip(*sorted(zip(sort_ranges, sort_words)))\n",
    "    return sort_words"
   ]
  },
  {
   "cell_type": "code",
   "execution_count": 33,
   "metadata": {
    "collapsed": false
   },
   "outputs": [],
   "source": [
    "v = sub_time_embed[(\"politics\", 3)]"
   ]
  },
  {
   "cell_type": "code",
   "execution_count": 34,
   "metadata": {
    "collapsed": false
   },
   "outputs": [
    {
     "data": {
      "text/plain": [
       "('invent',\n",
       " 'brietbart',\n",
       " 'database',\n",
       " 'conflict',\n",
       " 'gangs',\n",
       " 'serial',\n",
       " 'judaism',\n",
       " 'usher',\n",
       " 'sends',\n",
       " 'lords',\n",
       " 'carters',\n",
       " 'incriminating',\n",
       " 'depths',\n",
       " 'timeframe',\n",
       " 'grey',\n",
       " 'conflicted',\n",
       " 'otherwise',\n",
       " 'editing',\n",
       " 'undoing',\n",
       " 'judging',\n",
       " 'mcdonald',\n",
       " 'entertained',\n",
       " 'standardized',\n",
       " 'indictments',\n",
       " 'attendees',\n",
       " 'dared',\n",
       " 'collapsing',\n",
       " 'latch',\n",
       " 'homelessness',\n",
       " 'talk',\n",
       " 'afghan',\n",
       " 'weve',\n",
       " 'spectacular',\n",
       " 'gabbard',\n",
       " 'pressures',\n",
       " 'slave',\n",
       " 'arriving',\n",
       " 'shared',\n",
       " 'disproven',\n",
       " 'exclusive')"
      ]
     },
     "execution_count": 34,
     "metadata": {},
     "output_type": "execute_result"
    }
   ],
   "source": [
    "drift(embed, v, words, word_dict, \"hillary\")[:40]"
   ]
  },
  {
   "cell_type": "code",
   "execution_count": null,
   "metadata": {
    "collapsed": true
   },
   "outputs": [],
   "source": []
  },
  {
   "cell_type": "markdown",
   "metadata": {},
   "source": [
    "# Analogies"
   ]
  },
  {
   "cell_type": "code",
   "execution_count": 14,
   "metadata": {
    "collapsed": true
   },
   "outputs": [],
   "source": [
    "# Find closest word to: word1 : word2 :: word3 : ???, i.e. word2 + word3 - word1\n",
    "\n",
    "def analogies(embed, w, wd, word1, word2, word3):\n",
    "    match = wd[word2] + wd[word3] - wd[word1]\n",
    "    tries, dists = [], []\n",
    "    for i in xrange(len(embed)):\n",
    "        tries.append(w[i])\n",
    "        dists.append(np.linalg.norm(embed[i] - match))\n",
    "    dists, tries = zip(*sorted(zip(dists, tries)))\n",
    "    return tries"
   ]
  },
  {
   "cell_type": "code",
   "execution_count": 17,
   "metadata": {
    "collapsed": false
   },
   "outputs": [
    {
     "data": {
      "text/plain": [
       "34008"
      ]
     },
     "execution_count": 17,
     "metadata": {},
     "output_type": "execute_result"
    }
   ],
   "source": [
    "word_dict = {words[i] : i for i in xrange(len(words))}\n",
    "\n",
    "analogies(embed, words, word_dict, 'man', 'woman', 'king').index('queen')"
   ]
  },
  {
   "cell_type": "code",
   "execution_count": 11,
   "metadata": {
    "collapsed": false
   },
   "outputs": [
    {
     "data": {
      "text/plain": [
       "array([ -4.57227508e-03,   2.94195528e-02,   1.85489261e-11,\n",
       "        -9.25595782e-02,   6.53394183e-08,   1.35268365e-04,\n",
       "         2.72982354e-02,   4.55041593e-03,   1.84738139e-01,\n",
       "        -6.30881706e-02,   0.00000000e+00,   1.48024681e-01,\n",
       "        -7.16825034e-02,   3.49351064e-02,  -9.00192676e-02,\n",
       "         7.80678139e-02,   1.57402569e-01,  -4.19143611e-05,\n",
       "         1.25285522e-01,   2.82096914e-01,   3.20407460e-02,\n",
       "        -2.92064512e-06,  -5.71066590e-01,   8.67382593e-02,\n",
       "         3.22219844e-01,  -1.17708800e-03,  -6.48299979e-02,\n",
       "        -7.80406864e-07,  -4.84522428e-02,   1.93121253e-03,\n",
       "        -2.12126648e-01,  -2.99644859e-02,  -2.03224822e-01,\n",
       "        -1.19822344e-01,   7.32977315e-02,  -5.91506424e-02,\n",
       "         4.02628133e-30,  -2.15642747e-01,   1.10858730e-01,\n",
       "        -3.68731216e-01,   1.10274690e-01,  -9.08733654e-02,\n",
       "         9.35337314e-02,  -3.84803631e-21,  -1.47087674e-04,\n",
       "        -6.97826324e-02,   9.15459197e-02,   1.69285101e-10,\n",
       "         7.62424328e-02,   1.66274247e-01,   1.65627328e-01,\n",
       "        -9.27598010e-02,  -2.26797238e-01,  -5.30455136e-18,\n",
       "         2.44222456e-01,  -1.38567408e-01,   2.44733488e-01,\n",
       "         1.19331458e-02,  -1.92480537e-04,  -9.65662351e-02,\n",
       "        -2.79991396e-07,   6.09604621e-02,   1.95928542e-01,\n",
       "         1.88970634e-01,  -6.56263037e-02,  -3.04809652e-03,\n",
       "        -2.00319881e-02,   2.17129800e-02,   1.33095088e-04,\n",
       "        -2.83981481e-03,  -1.07482008e-01,   1.92016033e-01,\n",
       "        -2.18099300e-01,   1.01046019e-01,  -4.37600392e-02,\n",
       "         8.22760850e-02,   2.67999159e-38,  -4.05171938e-02,\n",
       "         2.55104581e-01,  -1.85726700e-04,   1.90992959e-02,\n",
       "         1.81874021e-01,  -9.42313785e-02,   1.21417039e-01,\n",
       "        -7.31936247e-02,  -2.67000502e-01,  -6.39795219e-02,\n",
       "         2.91503666e-02,  -1.44081289e-01,   1.11005113e-03,\n",
       "         1.82297543e-01,  -1.43648264e-01,  -6.06264363e-02,\n",
       "         6.54830644e-02,   8.93034676e-03,   1.69476229e-01,\n",
       "         2.58728487e-15,   1.12119751e-01,  -3.53034599e-02,\n",
       "        -3.47746030e-02])"
      ]
     },
     "execution_count": 11,
     "metadata": {},
     "output_type": "execute_result"
    }
   ],
   "source": [
    "ste_11['man'] - ste_11['woman'] + ste_11['queen']"
   ]
  },
  {
   "cell_type": "code",
   "execution_count": 13,
   "metadata": {
    "collapsed": false
   },
   "outputs": [
    {
     "data": {
      "text/plain": [
       "array([-0.0347427 , -0.00171878,  0.08036382, -0.0756645 ,  0.01953578,\n",
       "        0.07473946,  0.02534833, -0.01969689,  0.18820401, -0.05950474,\n",
       "        0.18231041,  0.15940334, -0.07021447,  0.02927301, -0.07237009,\n",
       "        0.09611204,  0.16480103, -0.05941342,  0.08049711,  0.3139643 ,\n",
       "        0.01357394, -0.05741534, -0.23787589,  0.09397853,  0.31914995,\n",
       "       -0.16879351, -0.04742181, -0.15832292, -0.08666043,  0.10100044,\n",
       "       -0.21160811, -0.02920867, -0.23656886, -0.1407993 ,  0.06129395,\n",
       "       -0.05261317,  0.07598447, -0.17372784,  0.07723228, -0.19855253,\n",
       "        0.13331695, -0.09252968,  0.10766796, -0.10218712, -0.01195821,\n",
       "       -0.09075358,  0.06087349,  0.2538105 ,  0.08534385,  0.07965839,\n",
       "        0.18725081, -0.0519432 , -0.22704811, -0.07242161,  0.32501585,\n",
       "       -0.06682245,  0.11730906,  0.06550153, -0.1690172 , -0.11791538,\n",
       "        0.00436498,  0.04876921,  0.13695879,  0.14504921, -0.07488604,\n",
       "       -0.00189326, -0.04364401,  0.02538492,  0.06836515, -0.07948913,\n",
       "       -0.15571133,  0.26685573, -0.20010166,  0.14130108, -0.02932644,\n",
       "        0.0789497 ,  0.05073006, -0.01252097,  0.26003128, -0.0633199 ,\n",
       "        0.15252791,  0.15614105, -0.06685611,  0.07734632, -0.05434297,\n",
       "       -0.10460197, -0.10773153,  0.09180207, -0.15531998,  0.08718958,\n",
       "        0.17338795, -0.1407761 , -0.07690103,  0.05817434,  0.12187498,\n",
       "        0.18335059,  0.09852946,  0.24784793, -0.03369702, -0.01300437])"
      ]
     },
     "execution_count": 13,
     "metadata": {},
     "output_type": "execute_result"
    }
   ],
   "source": [
    "ste['man'] - ste['woman'] + ste['queen']"
   ]
  },
  {
   "cell_type": "code",
   "execution_count": 5,
   "metadata": {
    "collapsed": false
   },
   "outputs": [],
   "source": [
    "def most_drift(sub1, sub2, w):\n",
    "    wp = w\n",
    "    m, n = embed.shape\n",
    "    sub1_embed = sub_embed[sub1]\n",
    "    sub2_embed = sub_embed[sub2]\n",
    "    drifts = [np.linalg.norm(np.asarray([np.linalg.norm(sub1_embed[i] - sub1_embed[j]) for j in xrange(1000)]) - np.asarray([np.linalg.norm(sub2_embed[i] - sub2_embed[j]) for j in xrange(1000)])) for i in xrange(1000)]\n",
    "    drifts, wp = zip(*sorted(zip(drifts, wp)))\n",
    "    return drifts, wp\n",
    "            "
   ]
  },
  {
   "cell_type": "code",
   "execution_count": 27,
   "metadata": {
    "collapsed": false
   },
   "outputs": [],
   "source": [
    "a, b = most_drift(\"politics\", \"The_Donald\", words)"
   ]
  },
  {
   "cell_type": "code",
   "execution_count": 5,
   "metadata": {
    "collapsed": false
   },
   "outputs": [],
   "source": [
    "def sub_task(embed, sub_embed, words, subs, check):\n",
    "    # find pairs of words which are pushed together in a particular sub\n",
    "    sub_squeeze = {}\n",
    "    for k in xrange(len(subs)):\n",
    "        print k\n",
    "        sembed = sub_embed[subs[k]]\n",
    "        sort_pairs, sort_ranges = [], []\n",
    "        for i in xrange(len(check)):\n",
    "            for j in xrange(i):\n",
    "                sort_pairs.append((words[check[i]], words[check[j]]))\n",
    "                shift = np.linalg.norm(sembed[check[i]] - sembed[check[j]]) - np.linalg.norm(embed[check[i]] - embed[check[j]])\n",
    "                sort_ranges.append(shift)\n",
    "        sort_ranges, sort_pairs = zip(*sorted(zip(sort_ranges, sort_pairs)))\n",
    "        sub_squeeze[subs[k]] = (sort_ranges, sort_pairs)\n",
    "    return sub_squeeze"
   ]
  },
  {
   "cell_type": "code",
   "execution_count": 11,
   "metadata": {
    "collapsed": false
   },
   "outputs": [
    {
     "name": "stdout",
     "output_type": "stream",
     "text": [
      "0\n",
      "1\n",
      "2\n",
      "3\n",
      "4\n",
      "5\n"
     ]
    }
   ],
   "source": [
    "a = sub_task(embed, sub_embed, words, subs, common_indices)"
   ]
  },
  {
   "cell_type": "code",
   "execution_count": 6,
   "metadata": {
    "collapsed": false
   },
   "outputs": [],
   "source": [
    "import pickle\n",
    "common_words = pickle.load(open(\"common_words.p\", 'rb'))"
   ]
  },
  {
   "cell_type": "code",
   "execution_count": 10,
   "metadata": {
    "collapsed": false
   },
   "outputs": [],
   "source": [
    "word_dict = {words[i] : i for i in xrange(len(words))}\n",
    "common_indices = [word_dict[word] for word in common_words[:2000]]"
   ]
  },
  {
   "cell_type": "code",
   "execution_count": 18,
   "metadata": {
    "collapsed": false
   },
   "outputs": [],
   "source": [
    "trump_push = a[\"The_Donald\"][1][::-1]\n",
    "sanders_push = a[\"SandersForPresident\"][1][::-1]\n",
    "politics_push = a[\"politics\"][1][::-1]"
   ]
  },
  {
   "cell_type": "code",
   "execution_count": 15,
   "metadata": {
    "collapsed": false
   },
   "outputs": [
    {
     "data": {
      "text/plain": [
       "(('biden', 'reagan'),\n",
       " ('comey', 'generally'),\n",
       " ('smaller', 'afford'),\n",
       " ('obamacare', 'buying'),\n",
       " ('buying', 'mass'),\n",
       " ('11', 'protest'),\n",
       " ('wealthy', 'mass'),\n",
       " ('arms', '90'),\n",
       " ('starts', 'meaning'),\n",
       " ('efforts', 'definitely'),\n",
       " ('aids', 'rpolitics'),\n",
       " ('independents', 'generally'),\n",
       " ('protest', 'door'),\n",
       " ('crisis', 'anybody'),\n",
       " ('african', 'bernies'),\n",
       " ('slightly', 'failed'),\n",
       " ('campaigns', 'stopped'),\n",
       " ('yep', 'sweden'),\n",
       " ('picked', 'signs'),\n",
       " ('warren', 'reagan'),\n",
       " ('b', 'afford'),\n",
       " ('transcripts', 'isis'),\n",
       " ('smaller', 'plus'),\n",
       " ('carson', 'rpolitics'),\n",
       " ('obamacare', 'heavily'),\n",
       " ('protest', 'wars'),\n",
       " ('biden', 'conservatives'),\n",
       " ('horrible', 'particularly'),\n",
       " ('nambla', 'ways'),\n",
       " ('beyond', 'mostly'),\n",
       " ('constantly', 'although'),\n",
       " ('search', 'keeping'),\n",
       " ('records', 'couldnt'),\n",
       " ('chicago', 'anywhere'),\n",
       " ('besides', 'image'),\n",
       " ('african', 'extreme'),\n",
       " ('arguing', 'successful'),\n",
       " ('available', 'wrote'),\n",
       " ('reports', 'mine'),\n",
       " ('notice', 'potential'))"
      ]
     },
     "execution_count": 15,
     "metadata": {},
     "output_type": "execute_result"
    }
   ],
   "source": [
    "trump_push[:40]"
   ]
  },
  {
   "cell_type": "code",
   "execution_count": 16,
   "metadata": {
    "collapsed": false
   },
   "outputs": [
    {
     "data": {
      "text/plain": [
       "(('officially', 'days'),\n",
       " ('americans', 'better'),\n",
       " ('911', 'michigan'),\n",
       " ('obamacare', 'science'),\n",
       " ('kek', 'obama'),\n",
       " ('911', 'ben'),\n",
       " ('latinos', 'protesters'),\n",
       " ('cruz', 'gop'),\n",
       " ('wealth', 'kinda'),\n",
       " ('growth', 'commit'),\n",
       " ('911', 'hitler'),\n",
       " ('statements', 'education'),\n",
       " ('sjw', 'today'),\n",
       " ('growth', 'expected'),\n",
       " ('buying', 'mass'),\n",
       " ('kek', 'if'),\n",
       " ('listening', 'americans'),\n",
       " ('marijuana', 'michigan'),\n",
       " ('officially', 'cool'),\n",
       " ('911', 'hours'),\n",
       " ('profit', 'changing'),\n",
       " ('blm', 'obama'),\n",
       " ('attack', 'kek'),\n",
       " ('colorado', 'rule'),\n",
       " ('911', 'schools'),\n",
       " ('particularly', 'pushing'),\n",
       " ('growth', 'demand'),\n",
       " ('colorado', 'accept'),\n",
       " ('illinois', 'marijuana'),\n",
       " ('deny', 'although'),\n",
       " ('islamic', 'today'),\n",
       " ('marijuana', 'e'),\n",
       " ('claiming', 'action'),\n",
       " ('911', '30'),\n",
       " ('buying', 'price'),\n",
       " ('besides', 'extreme'),\n",
       " ('buying', 'spread'),\n",
       " ('event', 'johnson'),\n",
       " ('constitutional', 'cruz'),\n",
       " ('banking', 'johnson'))"
      ]
     },
     "execution_count": 16,
     "metadata": {},
     "output_type": "execute_result"
    }
   ],
   "source": [
    "sanders_push[:40]"
   ]
  },
  {
   "cell_type": "code",
   "execution_count": 69,
   "metadata": {
    "collapsed": false
   },
   "outputs": [
    {
     "data": {
      "text/plain": [
       "[12287, 20558, 33066, 37983, 18004, 14747, 32908, 32766, 14167, 32692]"
      ]
     },
     "execution_count": 69,
     "metadata": {},
     "output_type": "execute_result"
    }
   ],
   "source": [
    "common_indices[:10]"
   ]
  },
  {
   "cell_type": "code",
   "execution_count": 70,
   "metadata": {
    "collapsed": false
   },
   "outputs": [
    {
     "data": {
      "text/plain": [
       "12287"
      ]
     },
     "execution_count": 70,
     "metadata": {},
     "output_type": "execute_result"
    }
   ],
   "source": [
    "word_dict['the']"
   ]
  },
  {
   "cell_type": "code",
   "execution_count": 19,
   "metadata": {
    "collapsed": false
   },
   "outputs": [
    {
     "data": {
      "text/plain": [
       "(('officially', 'days'),\n",
       " ('latinos', 'protesters'),\n",
       " ('someones', 'broken'),\n",
       " ('demand', 'ctr'),\n",
       " ('privilege', 'mom'),\n",
       " ('mom', 'c'),\n",
       " ('officially', 'needed'),\n",
       " ('mom', 'california'),\n",
       " ('cultural', 'protest'),\n",
       " ('someones', 'fix'),\n",
       " ('extension', '10'),\n",
       " ('officially', 'cool'),\n",
       " ('tweet', 'israel'),\n",
       " ('officially', '9'),\n",
       " ('profit', 'protesters'),\n",
       " ('wouldve', 'distance'),\n",
       " ('blm', 'kek'),\n",
       " ('protesters', 'claiming'),\n",
       " ('listening', 'h'),\n",
       " ('everywhere', 'medical'),\n",
       " ('buying', 'century'),\n",
       " ('pretend', 'reporting'),\n",
       " ('protesters', 'higher'),\n",
       " ('comey', 'besides'),\n",
       " ('blood', 'afford'),\n",
       " ('e', 'message'),\n",
       " ('talk', 'seen'),\n",
       " ('distance', 'positive'),\n",
       " ('videos', 'kinda'),\n",
       " ('movie', 'israel'),\n",
       " ('growth', 'demand'),\n",
       " ('body', 'feet'),\n",
       " ('0', 'google'),\n",
       " ('broke', 'feet'),\n",
       " ('itll', 'remaining'),\n",
       " ('distance', 'theyll'),\n",
       " ('san', 'protesters'),\n",
       " ('obamacare', 'science'),\n",
       " ('privilege', 'angry'),\n",
       " ('particularly', '\\xe2\\x80\\x8b'))"
      ]
     },
     "execution_count": 19,
     "metadata": {},
     "output_type": "execute_result"
    }
   ],
   "source": [
    "politics_push[:40]"
   ]
  },
  {
   "cell_type": "code",
   "execution_count": 31,
   "metadata": {
    "collapsed": true
   },
   "outputs": [],
   "source": [
    "def closest_words(word, sub, time, word_master):\n",
    "    w = word_master\n",
    "    index = word_dict[word]\n",
    "    emb = sub_time_embed[(sub, time)]\n",
    "    dists = [np.linalg.norm(emb[i] - emb[index]) for i in xrange(len(words))]\n",
    "    dists, w = zip(*sorted(zip(dists, w)))\n",
    "    return w"
   ]
  },
  {
   "cell_type": "code",
   "execution_count": 36,
   "metadata": {
    "collapsed": false
   },
   "outputs": [
    {
     "data": {
      "text/plain": [
       "('sanders',\n",
       " 'bernie',\n",
       " 'supporters',\n",
       " 'cruz',\n",
       " 'campaign',\n",
       " 'clinton',\n",
       " 'trump',\n",
       " 'fans',\n",
       " 'hillary',\n",
       " 'vs')"
      ]
     },
     "execution_count": 36,
     "metadata": {},
     "output_type": "execute_result"
    }
   ],
   "source": [
    "closest_words(\"sanders\", \"The_Donald\", 1, words)[:10]"
   ]
  },
  {
   "cell_type": "code",
   "execution_count": 25,
   "metadata": {
    "collapsed": false
   },
   "outputs": [
    {
     "data": {
      "text/plain": [
       "[('SandersForPresident', 8),\n",
       " ('The_Donald', 8),\n",
       " ('Conservative', 8),\n",
       " ('NeutralPolitics', 8),\n",
       " ('PoliticalDiscussion', 8),\n",
       " ('politics', 8)]"
      ]
     },
     "execution_count": 25,
     "metadata": {},
     "output_type": "execute_result"
    }
   ],
   "source": [
    "sub_time_embed.keys()"
   ]
  },
  {
   "cell_type": "code",
   "execution_count": 37,
   "metadata": {
    "collapsed": true
   },
   "outputs": [],
   "source": [
    "def shift_words(word, sub, time, word_master):\n",
    "    w = word_master\n",
    "    index = word_dict[word]\n",
    "    emb = sub_time_embed[(sub, time)]\n",
    "    emb_master = embed\n",
    "    dists = [np.linalg.norm(emb[i] - emb[index]) - np.linalg.norm(emb_master[i] - emb_master[index]) for i in xrange(len(words))]\n",
    "    dists, w = zip(*sorted(zip(dists, w)))\n",
    "    return w"
   ]
  },
  {
   "cell_type": "code",
   "execution_count": 59,
   "metadata": {
    "collapsed": false
   },
   "outputs": [
    {
     "data": {
      "text/plain": [
       "('arbusto',\n",
       " '65000ft',\n",
       " 'maga',\n",
       " 'te',\n",
       " 'nebraska',\n",
       " 'corroboration',\n",
       " 'lol',\n",
       " 'edit',\n",
       " 'neutralizing',\n",
       " 'descending',\n",
       " 'acquiesced',\n",
       " 'british',\n",
       " 'premeditation',\n",
       " '293645',\n",
       " 'while',\n",
       " 'syriza',\n",
       " 'anymore',\n",
       " 'themselves',\n",
       " 'winnertakemost',\n",
       " 'musing',\n",
       " 'ctr',\n",
       " 'meet',\n",
       " '514',\n",
       " 'tampermonkey',\n",
       " 'useraposs',\n",
       " 'greasemonkey',\n",
       " 'lost',\n",
       " 'relayed',\n",
       " 'break\\xe2\\x80\\x9d',\n",
       " 'bernie',\n",
       " 'virginia',\n",
       " 'hellscapes',\n",
       " 'indeed',\n",
       " 'borders',\n",
       " 'rpolitics',\n",
       " 'anyway',\n",
       " 'defend',\n",
       " 'overstaying',\n",
       " 'inflatable',\n",
       " 'moved')"
      ]
     },
     "execution_count": 59,
     "metadata": {},
     "output_type": "execute_result"
    }
   ],
   "source": [
    "shift_words(\"hillary\", \"The_Donald\", 2, words)[:40]"
   ]
  },
  {
   "cell_type": "code",
   "execution_count": 61,
   "metadata": {
    "collapsed": false
   },
   "outputs": [
    {
     "data": {
      "text/plain": [
       "('howhowhowhow',\n",
       " 'nyquists',\n",
       " 'literally',\n",
       " 'seriously',\n",
       " 'totally',\n",
       " 'uusermane01',\n",
       " 'basically',\n",
       " 'squeaker',\n",
       " 'unplug',\n",
       " '031',\n",
       " 'hwoh',\n",
       " 'rossford',\n",
       " 'somehow',\n",
       " 'speaking',\n",
       " '210800',\n",
       " 'apparently',\n",
       " 'neurodivergent',\n",
       " '\\xe2\\x9e\\xb0',\n",
       " 'business',\n",
       " 'clearly',\n",
       " '50400',\n",
       " '9275',\n",
       " 'specific',\n",
       " 'obviously',\n",
       " '\\xe2\\x80\\x9clying\\xe2\\x80\\x9d',\n",
       " 'twitterfacebook',\n",
       " 'probably',\n",
       " 'fucking',\n",
       " 'stratum',\n",
       " 'stupid',\n",
       " 'having',\n",
       " 'evidencebased',\n",
       " 'clinton',\n",
       " 'wasnt',\n",
       " 'completely',\n",
       " 'wolfe',\n",
       " 'technology',\n",
       " 'team',\n",
       " 'idology',\n",
       " 'definitely')"
      ]
     },
     "execution_count": 61,
     "metadata": {},
     "output_type": "execute_result"
    }
   ],
   "source": [
    "shift_words(\"trump\", \"politics\", 7, words)[:40]"
   ]
  },
  {
   "cell_type": "code",
   "execution_count": null,
   "metadata": {
    "collapsed": true
   },
   "outputs": [],
   "source": []
  }
 ],
 "metadata": {
  "anaconda-cloud": {},
  "kernelspec": {
   "display_name": "Python [conda root]",
   "language": "python",
   "name": "conda-root-py"
  },
  "language_info": {
   "codemirror_mode": {
    "name": "ipython",
    "version": 2
   },
   "file_extension": ".py",
   "mimetype": "text/x-python",
   "name": "python",
   "nbconvert_exporter": "python",
   "pygments_lexer": "ipython2",
   "version": "2.7.12"
  }
 },
 "nbformat": 4,
 "nbformat_minor": 1
}
